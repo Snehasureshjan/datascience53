{
 "cells": [
  {
   "cell_type": "code",
   "execution_count": 11,
   "id": "76e1656c-8b0a-471e-9df2-151914e56f2a",
   "metadata": {},
   "outputs": [
    {
     "name": "stdout",
     "output_type": "stream",
     "text": [
      "one dimensional array a= [1 2 3]\n",
      "two dimensional array a= [1 2 3]\n",
      "size of the array: (3,)\n",
      "element at indices 0,1,2: 1 2 3\n",
      "array after changing the element at index 0: [5 2 3]\n",
      "an array of all zeros:\n",
      " [[0. 0.]\n",
      " [0. 0.]]\n",
      "an array of all ones:\n",
      " [[1. 1.]]\n",
      "a constant array:\n",
      " [[7 7]\n",
      " [7 7]]\n",
      "A 2*2 identity matrix\n",
      ": [[1. 0.]\n",
      " [0. 1.]]\n",
      " an array with random values : [[0.23614868 0.15973419]\n",
      " [0.30831233 0.70822779]]\n"
     ]
    }
   ],
   "source": [
    "import numpy as np\n",
    "a=np.array([1,2,3])\n",
    "print(\"one dimensional array a=\",a)\n",
    "b=np.array([1,2,3])\n",
    "print(\"two dimensional array a=\",b)\n",
    "print(\"size of the array:\",a.shape)\n",
    "print(\"element at indices 0,1,2:\",a[0],a[1],a[2])\n",
    "a[0]=5\n",
    "print(\"array after changing the element at index 0:\",a)\n",
    "a=np.zeros((2,2))\n",
    "print(\"an array of all zeros:\\n\",a)\n",
    "b=np.ones((1,2))\n",
    "print(\"an array of all ones:\\n\",b)\n",
    "c=np.full((2,2),7)\n",
    "print(\"a constant array:\\n\",c)\n",
    "d=np.eye(2)\n",
    "print(\"A 2*2 identity matrix\\n:\",d)\n",
    "e=np.random.random((2,2))\n",
    "print(\" an array with random values :\",e)\n"
   ]
  },
  {
   "cell_type": "code",
   "execution_count": 15,
   "id": "181e2ed7-6c33-4ee6-ad16-ed03ace1865b",
   "metadata": {},
   "outputs": [
    {
     "name": "stdout",
     "output_type": "stream",
     "text": [
      "array indexing slicing\n",
      "al= [[ 1  2  3  4]\n",
      " [ 5  6  7  8]\n",
      " [ 9 10 11 12]]\n",
      "subaray consisting of first rows and columns 1 and 2\n",
      ": [[2 3]\n",
      " [6 7]]\n",
      "subarray consist of second rows: [[2 3]\n",
      " [6 7]]\n",
      "assessing columns:\n",
      "[ 2  6 10] (3,)\n",
      "[[ 2]\n",
      " [ 6]\n",
      " [10]] (3, 1)\n",
      "array integer indexing:\n",
      "a2= [[1 2]\n",
      " [3 4]\n",
      " [5 6]]\n",
      "example of array integer indexing : [1 4 5]\n",
      "[2 2]\n",
      "[2 2]\n",
      "a3= [[ 1  2  3]\n",
      " [ 4  5  6]\n",
      " [ 7  8  9]\n",
      " [10 11 12]]\n",
      "b= [0 2 0 1]\n",
      "a3 = [ 1  6  7 11]\n",
      "a3= [[11  2  3]\n",
      " [ 4  5 16]\n",
      " [17  8  9]\n",
      " [10 21 12]]\n",
      "boolean array indexing:\n",
      "a= [[1 2]\n",
      " [3 4]\n",
      " [5 6]]\n",
      "element greater than 2: [3 4 5 6]\n"
     ]
    }
   ],
   "source": [
    "import numpy as np\n",
    "print(\"array indexing slicing\")\n",
    "a1=np.array([[1,2,3,4],[5,6,7,8],[9,10,11,12]])\n",
    "print(\"al=\",a1)\n",
    "b=a1[:2,1:3]\n",
    "print(\"subaray consisting of first rows and columns 1 and 2\\n:\",b)\n",
    "b=a1[:2,1:3]\n",
    "print(\"subarray consist of second rows:\",b)\n",
    "print(\"assessing columns:\")\n",
    "b=a1[:,1]\n",
    "print(b,b.shape)\n",
    "c=a1[:,1:2]\n",
    "print(c,c.shape)\n",
    "print(\"array integer indexing:\")\n",
    "a2=np.array([[1,2],[3,4],[5,6]])\n",
    "print(\"a2=\",a2)\n",
    "print(\"example of array integer indexing :\",a2[[0,1,2],[0,1,0]])\n",
    "print(a2[[0,0],[1,1]])\n",
    "print(np.array([a2[0,1],a[0,1]]))\n",
    "a3=a=np.array([[1,2,3],[4,5,6],[7,8,9],[10,11,12]])\n",
    "print(\"a3=\",a3)\n",
    "b=np.array([0,2,0,1])\n",
    "print(\"b=\",b)\n",
    "print(\"a3 =\",a3[np.arange(4),b])\n",
    "a3[np.arange(4),b]+=10\n",
    "print(\"a3=\",a3)\n",
    "print(\"boolean array indexing:\")\n",
    "a= np.array([[1,2],[3,4],[5,6]])\n",
    "print(\"a=\",a)\n",
    "bool_idx=(a>2)\n",
    "print(\"element greater than 2:\",a[bool_idx])"
   ]
  },
  {
   "cell_type": "code",
   "execution_count": 21,
   "id": "e754f0a7-7528-477a-8922-d6bb6509f957",
   "metadata": {},
   "outputs": [
    {
     "name": "stdout",
     "output_type": "stream",
     "text": [
      "x= [[1. 2.]\n",
      " [3. 4.]]\n",
      "y= [[6. 9.]\n",
      " [4. 4.]]\n",
      "element wise addition : [[2. 4.]\n",
      " [6. 8.]]\n",
      "element wise subtraction: [[-5. -7.]\n",
      " [-1.  0.]]\n",
      "element wise multiplication: [[ 6. 18.]\n",
      " [12. 16.]]\n",
      "element wise square root of x: [[1.         1.41421356]\n",
      " [1.73205081 2.        ]]\n",
      "matrix multipliaction: [[14. 17.]\n",
      " [34. 43.]]\n",
      "sum of all element of matix x: 10.0\n",
      "sum of element in each column of matrix y: [10. 13.]\n",
      "sum of elements in each row of matrix y: [15.  8.]\n",
      "transpose of matrix x: [[1. 3.]\n",
      " [2. 4.]]\n"
     ]
    }
   ],
   "source": [
    "import numpy as n\n",
    "x=np.array([[1,2],[3,4]],dtype=np.float64)\n",
    "y=np.array([[6,9],[4,4]],dtype=np.float64)\n",
    "print(\"x=\",x)\n",
    "print(\"y=\",y)\n",
    "print(\"element wise addition :\",np.add(x,x))\n",
    "print(\"element wise subtraction:\",np.subtract(x,y))\n",
    "print(\"element wise multiplication:\",np.multiply(x,y))\n",
    "print(\"element wise square root of x:\",np.sqrt(x))\n",
    "print(\"matrix multipliaction:\",np.dot(x,y))\n",
    "print(\"sum of all element of matix x:\",np.sum(x))\n",
    "print(\"sum of element in each column of matrix y:\",np.sum(y,axis=0))\n",
    "print(\"sum of elements in each row of matrix y:\",np.sum(y,axis=1))\n",
    "print(\"transpose of matrix x:\",x.T)      "
   ]
  },
  {
   "cell_type": "code",
   "execution_count": 27,
   "id": "ec07dfa5-d68f-4955-a98a-3b2cab18a001",
   "metadata": {},
   "outputs": [
    {
     "name": "stdout",
     "output_type": "stream",
     "text": [
      "example for broadcasting:\n",
      "v= [1 2 3]\n",
      "w= [4 5]\n",
      "outer product of above vectors:\n",
      "[[ 4  5]\n",
      " [ 8 10]\n",
      " [12 15]]\n",
      "x= [[1 2 3]\n",
      " [4 5 6]]\n",
      "resultant matrix after adding the vector x to each row of matrix v :\n",
      "[[2 4 6]\n",
      " [5 7 9]]\n",
      "example for broadcasting fails:\n",
      "adding the vector x to each column of matrix w will generate an error \n",
      "solutiin :reshape the matrix w then result will be:\n",
      "[[ 5  6  7]\n",
      " [ 9 10 11]]\n"
     ]
    }
   ],
   "source": [
    "import numpy as np\n",
    "print(\"example for broadcasting:\")\n",
    "v=np.array([1,2,3])\n",
    "w=np.array([4,5])\n",
    "print(\"v=\",v)\n",
    "print(\"w=\",w)\n",
    "print(\"outer product of above vectors:\")\n",
    "print(np.reshape(v,(3,1))*w)\n",
    "x=(np.array([[1,2,3],[4,5,6]]))\n",
    "print(\"x=\",x)\n",
    "print(\"resultant matrix after adding the vector x to each row of matrix v :\")\n",
    "print(x+v)\n",
    "print(\"example for broadcasting fails:\")\n",
    "print(\"adding the vector x to each column of matrix w will generate an error \")\n",
    "print(\"solutiin :reshape the matrix w then result will be:\")\n",
    "print(x+np.reshape(w,(2,1)))"
   ]
  },
  {
   "cell_type": "code",
   "execution_count": null,
   "id": "543f703d-46cc-4708-b829-58214a8f0ec8",
   "metadata": {},
   "outputs": [],
   "source": []
  }
 ],
 "metadata": {
  "kernelspec": {
   "display_name": "Python 3 (ipykernel)",
   "language": "python",
   "name": "python3"
  },
  "language_info": {
   "codemirror_mode": {
    "name": "ipython",
    "version": 3
   },
   "file_extension": ".py",
   "mimetype": "text/x-python",
   "name": "python",
   "nbconvert_exporter": "python",
   "pygments_lexer": "ipython3",
   "version": "3.12.4"
  }
 },
 "nbformat": 4,
 "nbformat_minor": 5
}
