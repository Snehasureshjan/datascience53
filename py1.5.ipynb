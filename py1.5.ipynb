{
 "cells": [
  {
   "cell_type": "code",
   "execution_count": 1,
   "id": "bfe9cd6a-0340-4096-a262-2df6d90f14db",
   "metadata": {},
   "outputs": [
    {
     "name": "stdout",
     "output_type": "stream",
     "text": [
      "Demo of basic datatypes:Numbers\n",
      "x= 3\n",
      "y= 2.5\n",
      "Datatype of variable x: <class 'int'>\n",
      "Datatype of variable y: <class 'float'>\n",
      "Addition: 5.5\n",
      "subtraction: 0.5\n",
      "multiplication: 6\n",
      "Exponentiation: 9\n"
     ]
    }
   ],
   "source": [
    "print(\"Demo of basic datatypes:Numbers\")\n",
    "x=3\n",
    "y=2.5\n",
    "print(\"x=\",x)\n",
    "print(\"y=\",y)\n",
    "print(\"Datatype of variable x:\",type(x))\n",
    "print(\"Datatype of variable y:\",type(y))\n",
    "print(\"Addition:\",x+y)\n",
    "print(\"subtraction:\",x-y)\n",
    "print(\"multiplication:\",x*2)\n",
    "print(\"Exponentiation:\",x**2)\n"
   ]
  },
  {
   "cell_type": "code",
   "execution_count": 5,
   "id": "0d327e88-3c5e-48e7-8bf2-2529beda7792",
   "metadata": {},
   "outputs": [
    {
     "name": "stdout",
     "output_type": "stream",
     "text": [
      "Demo of basic datatypes:Boolean\n",
      "t= True\n",
      "f= False\n",
      "Datatype of variable t: <class 'bool'>\n",
      "Datatype of variable f: <class 'bool'>\n",
      "Logical AND operation : False\n",
      "Logical OR operation: True\n",
      "Logical NOT operation: False\n",
      "Logical XOR operation: True\n"
     ]
    }
   ],
   "source": [
    "print (\"Demo of basic datatypes:Boolean\")\n",
    "t=True\n",
    "f=False\n",
    "print(\"t=\",t)\n",
    "print(\"f=\",f)\n",
    "print(\"Datatype of variable t:\",type(t))\n",
    "print(\"Datatype of variable f:\",type(f))\n",
    "print(\"Logical AND operation :\", t and f)\n",
    "print(\"Logical OR operation:\", t or f)\n",
    "print (\"Logical NOT operation:\",not t)\n",
    "print(\"Logical XOR operation:\",t!=f)\n",
    "\n"
   ]
  },
  {
   "cell_type": "code",
   "execution_count": 3,
   "id": "ead1708e-a362-4943-95fa-e0fcd938afd0",
   "metadata": {},
   "outputs": [
    {
     "name": "stdout",
     "output_type": "stream",
     "text": [
      "containers:List\n",
      "list 'nums' contains : [0, 1, 2, 3, 4]\n",
      "List can contain element of different types.Example: [0, 1, 2, 3, 'abc']\n",
      "'nums' after inserting new element at the end:\n",
      "Sublists:\n",
      "A slice frpm index 2 to 4: [2, 3]\n",
      "A slice from index 2 to the end: [2, 3, 'abc', 'xyz']\n",
      "Aslice of the Whole list: [0, 1, 2, 3, 'abc', 'xyz']\n",
      "After Assigning a new sublist to 'nums':\n",
      "1:0\n",
      "2:1\n",
      "3:2\n",
      "4:3\n",
      "5:8\n",
      "6:9\n",
      "List of squares of even numbers from 'nums': [0, 4, 64]\n"
     ]
    }
   ],
   "source": [
    "print(\"containers:List\")\n",
    "nums=list (range(5))\n",
    "print(\"list 'nums' contains :\", nums)\n",
    "nums[4]=\"abc\"\n",
    "print(\"List can contain element of different types.Example:\",nums)\n",
    "nums.append(\"xyz\")\n",
    "print(\"'nums' after inserting new element at the end:\")\n",
    "print(\"Sublists:\")\n",
    "print(\"A slice frpm index 2 to 4:\", nums[2:4])\n",
    "print(\"A slice from index 2 to the end:\",nums[2:])\n",
    "print(\"Aslice of the Whole list:\",nums[:])\n",
    "nums[4:]=[8,9]\n",
    "print(\"After Assigning a new sublist to 'nums':\")\n",
    "for idx,i in enumerate(nums):\n",
    "    print('%d:%s' % (idx+1,i))\n",
    "    even_squares=[x**2 for x in nums if x%2==0]\n",
    "print(\"List of squares of even numbers from 'nums':\", even_squares)\n"
   ]
  },
  {
   "cell_type": "code",
   "execution_count": 6,
   "id": "1ade57ef-f8a4-46b3-a717-19cc5c494fb9",
   "metadata": {},
   "outputs": [
    {
     "name": "stdout",
     "output_type": "stream",
     "text": [
      "Demo of basic datatypes: String\n",
      "String 1: hello\n",
      "string 2: world\n",
      "String Concatination : helloworld\n",
      "Capitalize: Helloworld\n",
      "converted to uppercase: HELLO\n",
      "right justify a string:   hello\n",
      "string at center:  hello \n",
      "After replacing l with ell : he(ell)(ell)o\n",
      "string after stripping leading and trailing white spaces: world\n"
     ]
    }
   ],
   "source": [
    "print(\"Demo of basic datatypes: String\")\n",
    "s=\"hello\"\n",
    "t=\"world\"\n",
    "print(\"String 1:\",s)\n",
    "print(\"string 2:\",t)\n",
    "d=s+\"\"+t\n",
    "print(\"String Concatination :\", d)\n",
    "print(\"Capitalize:\", d.capitalize())\n",
    "print(\"converted to uppercase:\",s.upper())\n",
    "print(\"right justify a string:\",s.rjust(7))\n",
    "print(\"string at center:\",s.center(7))\n",
    "print(\"After replacing l with ell :\", s.replace('l','(ell)'))\n",
    "print(\"string after stripping leading and trailing white spaces:\",'world'.strip())"
   ]
  },
  {
   "cell_type": "code",
   "execution_count": 1,
   "id": "3041c693-aff1-4e75-892a-2c7b09689e32",
   "metadata": {},
   "outputs": [
    {
     "name": "stdout",
     "output_type": "stream",
     "text": [
      "Containers:Dictionaries\n",
      "Dictionary: {'cat': 'cute', 'dog': 'furry'}\n",
      "Is the dictionary has the key 'cat'? True\n",
      "After adding new entry to 'd': {'cat': 'cute', 'dog': 'furry', 'fish': 'wet'}\n",
      "Get an element monkey: N/A\n",
      "Get an element fish: wet\n",
      "After deleting the newly added entry from 'd': {'cat': 'cute', 'dog': 'furry'}\n",
      "Demo of dictionary comprehension:\n",
      "Squares of integers of range 10:\n",
      "0 : 0\n",
      "1 : 1\n",
      "2 : 4\n",
      "3 : 9\n",
      "4 : 16\n",
      "5 : 25\n",
      "6 : 36\n",
      "7 : 49\n",
      "8 : 64\n",
      "9 : 81\n"
     ]
    }
   ],
   "source": [
    "print(\"Containers:Dictionaries\")\n",
    "d=dict()\n",
    "d={'cat':'cute','dog':'furry'}\n",
    "print(\"Dictionary:\",d)\n",
    "print(\"Is the dictionary has the key 'cat'?\",'cat' in d)\n",
    "d['fish']='wet'\n",
    "print(\"After adding new entry to 'd':\",d)\n",
    "print(\"Get an element monkey:\",d.get('monkey','N/A'))\n",
    "print(\"Get an element fish:\",d.get('fish','N/A'))\n",
    "del d['fish']\n",
    "print(\"After deleting the newly added entry from 'd':\",d)\n",
    "print(\"Demo of dictionary comprehension:\")\n",
    "squares={x:x*x for x in range(10)}\n",
    "print(\"Squares of integers of range 10:\")\n",
    "for k,v in squares.items():\n",
    "    print(k,\":\",v)"
   ]
  },
  {
   "cell_type": "code",
   "execution_count": 2,
   "id": "f02126b5-c9c5-4ea3-acc1-c9f55de11f06",
   "metadata": {},
   "outputs": [
    {
     "name": "stdout",
     "output_type": "stream",
     "text": [
      "Containers:Sets\n",
      "Set 'num1': {120, 100, 110}\n",
      "'num1' after inserting 90: {120, 90, 100, 110}\n",
      "'num1' after inserting multiple elements: {100, 70, 110, 50, 120, 90, 60}\n",
      "'num1' after removing 60: {100, 70, 110, 50, 120, 90}\n",
      "Set comprehension and set operations;\n",
      "n1= {0, 1, 2, 3, 4, 5, 6, 7, 8, 9}\n",
      "n2= {1, 3, 5, 7, 9}\n",
      "n1 union n2: {0, 1, 2, 3, 4, 5, 6, 7, 8, 9}\n",
      "n1 intersection n2: {1, 3, 5, 7, 9}\n",
      "n1 difference n2: {0, 2, 4, 6, 8}\n"
     ]
    }
   ],
   "source": [
    "print(\"Containers:Sets\")\n",
    "num1={100,110,120}\n",
    "print(\"Set 'num1':\",num1)\n",
    "num1.add(90)\n",
    "print(\"'num1' after inserting 90:\",num1)\n",
    "num1.update([50,60,70])\n",
    "print(\"'num1' after inserting multiple elements:\",num1)\n",
    "num1.remove(60)\n",
    "print(\"'num1' after removing 60:\",num1)\n",
    "print(\"Set comprehension and set operations;\")\n",
    "n1={x for x in range(10)}\n",
    "print(\"n1=\",n1)\n",
    "n2={x for x in range(10) if x%2!=0}\n",
    "print(\"n2=\",n2)\n",
    "print(\"n1 union n2:\",n1|n2)\n",
    "print(\"n1 intersection n2:\",n1&n2)\n",
    "print(\"n1 difference n2:\",n1-n2)\n"
   ]
  },
  {
   "cell_type": "code",
   "execution_count": 18,
   "id": "64a6b056-4f46-4ba6-a95c-1389311e44c0",
   "metadata": {},
   "outputs": [
    {
     "ename": "SyntaxError",
     "evalue": "invalid syntax (2650279452.py, line 2)",
     "output_type": "error",
     "traceback": [
      "\u001b[0;36m  Cell \u001b[0;32mIn[18], line 2\u001b[0;36m\u001b[0m\n\u001b[0;31m    def___init__(self,name):\u001b[0m\n\u001b[0m                           ^\u001b[0m\n\u001b[0;31mSyntaxError\u001b[0m\u001b[0;31m:\u001b[0m invalid syntax\n"
     ]
    }
   ],
   "source": [
    "class Greeter:\n",
    "        def___init__(self,name):\n",
    "                 self.name = name\n",
    "        def greet(self,loud=false):\n",
    "                if loud:\n",
    "                        print('HELLO, %s!'% self.name.upper())\n",
    "                else:\n",
    "                        print('Hello,%s'%self.name)\n",
    "g=Greeter('Fred')\n",
    "g.greet()\n",
    "g.greet(loud=True)"
   ]
  },
  {
   "cell_type": "code",
   "execution_count": 19,
   "id": "eecb491f-4b81-49f4-9e17-31b00296295c",
   "metadata": {},
   "outputs": [
    {
     "name": "stdout",
     "output_type": "stream",
     "text": [
      "Demo of function : program to find factorial of a number\n"
     ]
    },
    {
     "name": "stdin",
     "output_type": "stream",
     "text": [
      "Enter a number: 4\n"
     ]
    },
    {
     "name": "stdout",
     "output_type": "stream",
     "text": [
      "Factorial: 24\n"
     ]
    }
   ],
   "source": [
    "print(\"Demo of function : program to find factorial of a number\")\n",
    "def fact(n):\n",
    "    if n == 1:\n",
    "        return 1\n",
    "    else:\n",
    "        return(n*fact(n-1))\n",
    "n=int(input(\"Enter a number:\"))\n",
    "print(\"Factorial:\",fact(n) )"
   ]
  },
  {
   "cell_type": "code",
   "execution_count": 20,
   "id": "e4f819ac-547a-443d-8dc0-99cd1b3e8bfa",
   "metadata": {},
   "outputs": [
    {
     "name": "stdout",
     "output_type": "stream",
     "text": [
      "Containers:Tuples\n",
      "Dictionary with tuple keys:\n",
      "(0, 1) : 0\n",
      "(1, 2) : 1\n",
      "(2, 3) : 2\n",
      "(3, 4) : 3\n",
      "(4, 5) : 4\n",
      "(5, 6) : 5\n",
      "(6, 7) : 6\n",
      "(7, 8) : 7\n",
      "(8, 9) : 8\n",
      "(9, 10) : 9\n",
      "Tuple t: (5, 6)\n",
      "5\n",
      "1\n"
     ]
    }
   ],
   "source": [
    "print(\"Containers:Tuples\")\n",
    "d={(x,x+1):x for x in range(10)}\n",
    "print(\"Dictionary with tuple keys:\")\n",
    "for k,v in d.items():\n",
    "    print(k,\":\",v)\n",
    "t=(5,6)\n",
    "print(\"Tuple t:\",t)\n",
    "print(d[t])\n",
    "print(d[1,2])"
   ]
  },
  {
   "cell_type": "code",
   "execution_count": 24,
   "id": "4466ebf1-084b-4a20-b3de-2abc4fae2ce6",
   "metadata": {},
   "outputs": [
    {
     "name": "stdout",
     "output_type": "stream",
     "text": [
      "Hello,Fred\n",
      "HELLO, FRED!\n"
     ]
    }
   ],
   "source": [
    "class Greeter:\n",
    "        def __init__(self, name):\n",
    "                 self.name = name\n",
    "        def greet(self,  loud=False):\n",
    "                if loud:\n",
    "                        print('HELLO, %s!'% self.name.upper())\n",
    "                else:\n",
    "                        print('Hello,%s'%self.name)\n",
    "g=Greeter('Fred')\n",
    "\n",
    "\n",
    "\n",
    "g.greet()\n",
    "g.greet(loud=True)"
   ]
  },
  {
   "cell_type": "code",
   "execution_count": 23,
   "id": "22d51218-4cbd-42c8-842d-c42cea54f2fd",
   "metadata": {},
   "outputs": [
    {
     "name": "stdout",
     "output_type": "stream",
     "text": [
      "Hello, Fred\n",
      "HELLO, FRED!\n"
     ]
    }
   ],
   "source": [
    "class Greeter:\n",
    "    def __init__(self, name):\n",
    "        self.name = name\n",
    "\n",
    "    def greet(self, loud=False):\n",
    "        if loud:\n",
    "            print('HELLO, %s!' % self.name.upper())\n",
    "        else:\n",
    "            print('Hello, %s' % self.name)\n",
    "\n",
    "\n",
    "g = Greeter('Fred')\n",
    "\n",
    "\n",
    "g.greet()        \n",
    "g.greet(loud=True) "
   ]
  },
  {
   "cell_type": "code",
   "execution_count": null,
   "id": "c436c325-f625-4ab4-ac27-9bfe00d07706",
   "metadata": {},
   "outputs": [],
   "source": []
  }
 ],
 "metadata": {
  "kernelspec": {
   "display_name": "Python 3 (ipykernel)",
   "language": "python",
   "name": "python3"
  },
  "language_info": {
   "codemirror_mode": {
    "name": "ipython",
    "version": 3
   },
   "file_extension": ".py",
   "mimetype": "text/x-python",
   "name": "python",
   "nbconvert_exporter": "python",
   "pygments_lexer": "ipython3",
   "version": "3.12.4"
  }
 },
 "nbformat": 4,
 "nbformat_minor": 5
}
