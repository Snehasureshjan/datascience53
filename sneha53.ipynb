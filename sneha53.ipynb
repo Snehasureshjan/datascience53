{
 "cells": [
  {
   "cell_type": "code",
   "execution_count": 1,
   "id": "22073a9f-e15c-4e25-a5b6-b60d31fe4cfa",
   "metadata": {},
   "outputs": [
    {
     "name": "stdout",
     "output_type": "stream",
     "text": [
      "demo of basic data types:Number\n",
      "x= 3\n",
      "data type of variable x: <class 'int'>\n",
      "data type of variable y: <class 'float'>\n",
      "addition: 5.5\n",
      "subtraction: 0.5\n",
      "multiplication: 7.5\n",
      "exponentiation: 9\n"
     ]
    }
   ],
   "source": [
    "print(\"demo of basic data types:Number\")\n",
    "x=3\n",
    "y=2.5\n",
    "print (\"x=\",x)\n",
    "print(\"data type of variable x:\",type(x))\n",
    "print(\"data type of variable y:\",type(y))\n",
    "print(\"addition:\",x+y)\n",
    "print(\"subtraction:\",x-y)\n",
    "print(\"multiplication:\",x*y)\n",
    "print(\"exponentiation:\",x**2)\n",
    "      "
   ]
  },
  {
   "cell_type": "code",
   "execution_count": 4,
   "id": "919296d8-7fdb-41dc-b5ac-961a85c837ee",
   "metadata": {},
   "outputs": [
    {
     "name": "stdout",
     "output_type": "stream",
     "text": [
      "t= True\n",
      "f= False\n",
      "data type of variable t: <class 'bool'>\n",
      "data type of variable f: <class 'bool'>\n",
      "logical AND operation: False\n",
      "logical OR  opertion: True\n",
      "logical NOT operation: False\n",
      "logical XOR operation: True\n"
     ]
    }
   ],
   "source": [
    "t=True\n",
    "f=False\n",
    "print(\"t=\",t)\n",
    "print(\"f=\",f)\n",
    "print(\"data type of variable t:\",type(t))\n",
    "print(\"data type of variable f:\",type(f))\n",
    "print(\"logical AND operation:\",t and f)\n",
    "print(\"logical OR  opertion:\",t or f)\n",
    "print(\"logical NOT operation:\",not t)\n",
    "print(\"logical XOR operation:\",t!=f)"
   ]
  },
  {
   "cell_type": "markdown",
   "id": "679ffe9a-deca-47ae-bd54-13d4efca9d7b",
   "metadata": {},
   "source": [
    "print(\"demo of basics types:string\")\n",
    "S=\"hello\"\n",
    "t=world\"\n",
    "print(\"string 1:\",s)\n",
    "print(\"string 2:\",t)\n",
    "d=s+\"\"=t)\n",
    "print(\"string concatenation:\"d)\n",
    "print(\"capitalize:\",d.captilalize())\n",
    "print(\"converted to uppercase:\",s.upper())\n",
    "print(\"right justify a string:\",s.rjust(7))\n",
    "print(\"string a center:\"s.center(7))\n",
    "print(\"after replacing i will ell:,s.replace('l','(ell)'))\n",
    "print(\"string after striping leading andtraveling\n",
    "while spaces:\",world\".strip())"
   ]
  },
  {
   "cell_type": "code",
   "execution_count": 13,
   "id": "d9838127-c8c6-4b63-bc03-cf58ca54ba55",
   "metadata": {},
   "outputs": [
    {
     "name": "stdout",
     "output_type": "stream",
     "text": [
      "demo of basics types:string\n",
      "string 1: hello\n",
      "string 2: world\n",
      "string concatenation: helloworld\n",
      "capitalize: Helloworld\n",
      "converted to uppercase: HELLO\n",
      "right justify a string:   hello\n",
      "string a center:  hello \n",
      "after rep(ell)acing i wi(ell)(ell) e(ell)(ell):,s\n",
      "string after striping leading andtraveling while spaces: world\n"
     ]
    }
   ],
   "source": [
    "print(\"demo of basics types:string\") \n",
    "s=\"hello\" \n",
    "t=\"world\" \n",
    "print(\"string 1:\",s) \n",
    "print(\"string 2:\",t) \n",
    "d=s+\"\"+t\n",
    "print(\"string concatenation:\",d) \n",
    "print(\"capitalize:\",d.capitalize())\n",
    "print(\"converted to uppercase:\",s.upper()) \n",
    "print(\"right justify a string:\",s.rjust(7)) \n",
    "print(\"string a center:\",s.center(7)) \n",
    "print(\"after replacing i will ell:,s\".replace('l','(ell)')) \n",
    "print(\"string after striping leading andtraveling while spaces:\",'world'.strip())\n",
    "\n"
   ]
  },
  {
   "cell_type": "code",
   "execution_count": 26,
   "id": "1bfffb54-d3fe-464a-ae81-c8aa847681ea",
   "metadata": {},
   "outputs": [
    {
     "name": "stdout",
     "output_type": "stream",
     "text": [
      "containers:list\n",
      "list 'nums'contain: [0, 1, 2, 3, 4]\n",
      "list can contain element of different types example: [0, 1, 2, 3, 'abc']\n",
      "nums after inserting new element at end:\n",
      "sublists:\n",
      "A slice from index 2 to 4: [2, 3]\n",
      "A slice from index 2 to the end: [2, 3, 'abc', 'xyz']\n",
      "A slice from the start to index 2: [0, 1]\n",
      "A slice of the whole list: [0, 1, 2, 3, 'abc', 'xyz']\n",
      "after assigning a new sublist to a'nums':\n",
      "1:0\n",
      "2:1\n",
      "3:2\n",
      "4:3\n",
      "5:8\n",
      "6:9\n",
      "list of square of even numbers for 'nums': [0, 4, 64]\n"
     ]
    }
   ],
   "source": [
    "print(\"containers:list\")\n",
    "nums=list(range(5))\n",
    "print(\"list 'nums'contain:\",nums)\n",
    "nums[4]=\"abc\"\n",
    "print(\"list can contain element of different types example:\",nums)\n",
    "nums.append(\"xyz\")\n",
    "print(\"nums after inserting new element at end:\")\n",
    "print(\"sublists:\")\n",
    "print(\"A slice from index 2 to 4:\",nums[2:4])\n",
    "print(\"A slice from index 2 to the end:\",nums[2:])\n",
    "print(\"A slice from the start to index 2:\",nums[:2])\n",
    "print(\"A slice of the whole list:\",nums[:])\n",
    "nums[4:]=[8,9]# assign a new sublist to a slice\n",
    "print(\"after assigning a new sublist to a'nums':\")\n",
    "for idx, i in enumerate (nums):\n",
    "    print('%d:%s'%(idx +1,i))\n",
    "even_square = [x**2 for x in nums if x %2==0]\n",
    "print(\"list of square of even numbers for 'nums':\",even_square)"
   ]
  },
  {
   "cell_type": "raw",
   "id": "cc0ef5c5-3784-4479-b9e8-0c48ce919a23",
   "metadata": {},
   "source": []
  },
  {
   "cell_type": "code",
   "execution_count": 32,
   "id": "ce38396c-9de4-40f7-beff-a094358a3cc6",
   "metadata": {},
   "outputs": [
    {
     "name": "stdout",
     "output_type": "stream",
     "text": [
      "containers:Dictionaries\n",
      "Dictionary: {'cat': 'cute', 'dog': 'furry'}\n",
      "is the dictionary has the key'cat'? True\n",
      "after adding new entry to 'd': {'cat': 'cute', 'dog': 'furry', 'fish': 'wet'}\n",
      "get an element fish: wet\n",
      "after deleting the newly added entry from 'd': {'cat': 'cute', 'dog': 'furry'}\n",
      "demo of dictionary comprehension:\n",
      "squares of integer of range 10:\n",
      "0 : 0\n",
      "1 : 1\n",
      "2 : 4\n",
      "3 : 9\n",
      "4 : 16\n",
      "5 : 25\n",
      "6 : 36\n",
      "7 : 49\n",
      "8 : 64\n",
      "9 : 81\n"
     ]
    }
   ],
   "source": [
    "print(\"containers:Dictionaries\")\n",
    "d=dict()\n",
    "d={'cat':'cute','dog':'furry'}\n",
    "print(\"Dictionary:\",d)\n",
    "print(\"is the dictionary has the key'cat'?\",'cat' in d)\n",
    "d['fish']='wet'\n",
    "print(\"after adding new entry to 'd':\",d)\n",
    "print(\"get an element fish:\",d.get('fish','N/A'))\n",
    "del d['fish']\n",
    "print(\"after deleting the newly added entry from 'd':\",d)\n",
    "print (\"demo of dictionary comprehension:\")\n",
    "squares ={x:x*x for x in range(10)}\n",
    "print(\"squares of integer of range 10:\")\n",
    "for k,v in squares.items():\n",
    "   print(k,\":\",v)"
   ]
  },
  {
   "cell_type": "code",
   "execution_count": 33,
   "id": "1504c48f-66c2-4fc3-95f3-58aa9bbf32e5",
   "metadata": {},
   "outputs": [
    {
     "name": "stdout",
     "output_type": "stream",
     "text": [
      "Containers:Sets\n",
      "Set 'num1': {120, 100, 110}\n",
      "'num1' after inserting 90: {120, 90, 100, 110}\n",
      "'num1' after inserting multiple elements: {100, 70, 110, 50, 120, 90, 60}\n",
      "'num1' after removing 60: {100, 70, 110, 50, 120, 90}\n",
      "Set comprehension & Set operations:\n",
      "n1= {0, 1, 2, 3, 4, 5, 6, 7, 8, 9}\n",
      "n2= {1, 3, 5, 7, 9}\n",
      "n1 union n2 {0, 1, 2, 3, 4, 5, 6, 7, 8, 9}\n",
      "n1 intersection n2 {1, 3, 5, 7, 9}\n",
      "n1 difference n2 {0, 2, 4, 6, 8}\n"
     ]
    }
   ],
   "source": [
    "print(\"Containers:Sets\")\n",
    "num1={100,110,120}\n",
    "print(\"Set 'num1':\",num1)\n",
    "num1.add(90)\n",
    "print(\"'num1' after inserting 90:\",num1)\n",
    "num1.update([50,60,70])\n",
    "print(\"'num1' after inserting multiple elements:\",num1)\n",
    "num1.remove(60)\n",
    "print(\"'num1' after removing 60:\",num1)\n",
    "print(\"Set comprehension & Set operations:\")\n",
    "n1={x for x in range(10)}\n",
    "print(\"n1=\",n1)\n",
    "n2={x for x in range(10) if x%2!=0}\n",
    "print(\"n2=\",n2)\n",
    "print(\"n1 union n2\",n1|n2)\n",
    "print(\"n1 intersection n2\",n1&n2)\n",
    "print(\"n1 difference n2\",n1-n2)\n",
    "\n"
   ]
  },
  {
   "cell_type": "code",
   "execution_count": 34,
   "id": "0091f3ac-d50f-459d-a369-d74637812780",
   "metadata": {},
   "outputs": [
    {
     "name": "stdout",
     "output_type": "stream",
     "text": [
      "Containers:Tuples\n",
      "Dictionary with tuple keys:\n",
      "(0, 1) : 0\n",
      "(1, 2) : 1\n",
      "(2, 3) : 2\n",
      "(3, 4) : 3\n",
      "(4, 5) : 4\n",
      "(5, 6) : 5\n",
      "(6, 7) : 6\n",
      "(7, 8) : 7\n",
      "(8, 9) : 8\n",
      "(9, 10) : 9\n",
      "Tuple t: (5, 6)\n",
      "5\n",
      "1\n"
     ]
    }
   ],
   "source": [
    "print(\"Containers:Tuples\")\n",
    "d={(x,x+1):x for x in range(10)}\n",
    "print(\"Dictionary with tuple keys:\")\n",
    "for k,v in d.items():\n",
    "    print(k,\":\",v)\n",
    "t=(5,6)\n",
    "print(\"Tuple t:\",t)\n",
    "print(d[t])\n",
    "print(d[1,2])\n"
   ]
  },
  {
   "cell_type": "code",
   "execution_count": 35,
   "id": "6838386f-b3ea-4484-9d39-d90f02873b78",
   "metadata": {},
   "outputs": [
    {
     "name": "stdout",
     "output_type": "stream",
     "text": [
      "Demo of function: Program to find factorial of a number\n"
     ]
    },
    {
     "name": "stdin",
     "output_type": "stream",
     "text": [
      "Enter a number: 5\n"
     ]
    },
    {
     "name": "stdout",
     "output_type": "stream",
     "text": [
      "Factorial: 120\n"
     ]
    }
   ],
   "source": [
    "print(\"Demo of function: Program to find factorial of a number\")\n",
    "def fact(n):\n",
    "    if n==1:\n",
    "        return 1\n",
    "    else:\n",
    "        return(n*fact(n-1))\n",
    "n=int(input(\"Enter a number:\"))\n",
    "print(\"Factorial:\",fact(n))\n"
   ]
  },
  {
   "cell_type": "code",
   "execution_count": 36,
   "id": "3c64109f-13f4-4b3c-9831-b9b5f974c329",
   "metadata": {},
   "outputs": [
    {
     "name": "stdout",
     "output_type": "stream",
     "text": [
      "Hello, Fred\n",
      "HELLO, FRED!\n"
     ]
    }
   ],
   "source": [
    "class Greeter:\n",
    "    def __init__(self,name):\n",
    "        self.name=name\n",
    "    def greet(self,loud=False):\n",
    "        if loud:\n",
    "            print('HELLO, %s!'%self.name.upper())\n",
    "        else:\n",
    "            print('Hello, %s'%self.name)\n",
    "g=Greeter('Fred')\n",
    "g.greet()\n",
    "g.greet(loud=True)\n"
   ]
  },
  {
   "cell_type": "code",
   "execution_count": null,
   "id": "f44cf25e-781e-4765-994d-c2fef02bf13b",
   "metadata": {},
   "outputs": [],
   "source": []
  }
 ],
 "metadata": {
  "kernelspec": {
   "display_name": "Python 3 (ipykernel)",
   "language": "python",
   "name": "python3"
  },
  "language_info": {
   "codemirror_mode": {
    "name": "ipython",
    "version": 3
   },
   "file_extension": ".py",
   "mimetype": "text/x-python",
   "name": "python",
   "nbconvert_exporter": "python",
   "pygments_lexer": "ipython3",
   "version": "3.12.4"
  }
 },
 "nbformat": 4,
 "nbformat_minor": 5
}
