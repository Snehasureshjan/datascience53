{
 "cells": [
  {
   "cell_type": "code",
   "execution_count": 1,
   "id": "bfe9cd6a-0340-4096-a262-2df6d90f14db",
   "metadata": {},
   "outputs": [
    {
     "name": "stdout",
     "output_type": "stream",
     "text": [
      "Demo of basic datatypes:Numbers\n",
      "x= 3\n",
      "y= 2.5\n",
      "Datatype of variable x: <class 'int'>\n",
      "Datatype of variable y: <class 'float'>\n",
      "Addition: 5.5\n",
      "subtraction: 0.5\n",
      "multiplication: 6\n",
      "Exponentiation: 9\n"
     ]
    }
   ],
   "source": [
    "print(\"Demo of basic datatypes:Numbers\")\n",
    "x=3\n",
    "y=2.5\n",
    "print(\"x=\",x)\n",
    "print(\"y=\",y)\n",
    "print(\"Datatype of variable x:\",type(x))\n",
    "print(\"Datatype of variable y:\",type(y))\n",
    "print(\"Addition:\",x+y)\n",
    "print(\"subtraction:\",x-y)\n",
    "print(\"multiplication:\",x*2)\n",
    "print(\"Exponentiation:\",x**2)\n"
   ]
  },
  {
   "cell_type": "code",
   "execution_count": 5,
   "id": "0d327e88-3c5e-48e7-8bf2-2529beda7792",
   "metadata": {},
   "outputs": [
    {
     "name": "stdout",
     "output_type": "stream",
     "text": [
      "Demo of basic datatypes:Boolean\n",
      "t= True\n",
      "f= False\n",
      "Datatype of variable t: <class 'bool'>\n",
      "Datatype of variable f: <class 'bool'>\n",
      "Logical AND operation : False\n",
      "Logical OR operation: True\n",
      "Logical NOT operation: False\n",
      "Logical XOR operation: True\n"
     ]
    }
   ],
   "source": [
    "print (\"Demo of basic datatypes:Boolean\")\n",
    "t=True\n",
    "f=False\n",
    "print(\"t=\",t)\n",
    "print(\"f=\",f)\n",
    "print(\"Datatype of variable t:\",type(t))\n",
    "print(\"Datatype of variable f:\",type(f))\n",
    "print(\"Logical AND operation :\", t and f)\n",
    "print(\"Logical OR operation:\", t or f)\n",
    "print (\"Logical NOT operation:\",not t)\n",
    "print(\"Logical XOR operation:\",t!=f)\n",
    "\n"
   ]
  },
  {
   "cell_type": "code",
   "execution_count": 3,
   "id": "ead1708e-a362-4943-95fa-e0fcd938afd0",
   "metadata": {},
   "outputs": [
    {
     "name": "stdout",
     "output_type": "stream",
     "text": [
      "containers:List\n",
      "list 'nums' contains : [0, 1, 2, 3, 4]\n",
      "List can contain element of different types.Example: [0, 1, 2, 3, 'abc']\n",
      "'nums' after inserting new element at the end:\n",
      "Sublists:\n",
      "A slice frpm index 2 to 4: [2, 3]\n",
      "A slice from index 2 to the end: [2, 3, 'abc', 'xyz']\n",
      "Aslice of the Whole list: [0, 1, 2, 3, 'abc', 'xyz']\n",
      "After Assigning a new sublist to 'nums':\n",
      "1:0\n",
      "2:1\n",
      "3:2\n",
      "4:3\n",
      "5:8\n",
      "6:9\n",
      "List of squares of even numbers from 'nums': [0, 4, 64]\n"
     ]
    }
   ],
   "source": [
    "print(\"containers:List\")\n",
    "nums=list (range(5))\n",
    "print(\"list 'nums' contains :\", nums)\n",
    "nums[4]=\"abc\"\n",
    "print(\"List can contain element of different types.Example:\",nums)\n",
    "nums.append(\"xyz\")\n",
    "print(\"'nums' after inserting new element at the end:\")\n",
    "print(\"Sublists:\")\n",
    "print(\"A slice frpm index 2 to 4:\", nums[2:4])\n",
    "print(\"A slice from index 2 to the end:\",nums[2:])\n",
    "print(\"Aslice of the Whole list:\",nums[:])\n",
    "nums[4:]=[8,9]\n",
    "print(\"After Assigning a new sublist to 'nums':\")\n",
    "for idx,i in enumerate(nums):\n",
    "    print('%d:%s' % (idx+1,i))\n",
    "    even_squares=[x**2 for x in nums if x%2==0]\n",
    "print(\"List of squares of even numbers from 'nums':\", even_squares)\n"
   ]
  },
  {
   "cell_type": "code",
   "execution_count": 6,
   "id": "1ade57ef-f8a4-46b3-a717-19cc5c494fb9",
   "metadata": {},
   "outputs": [
    {
     "name": "stdout",
     "output_type": "stream",
     "text": [
      "Demo of basic datatypes: String\n",
      "String 1: hello\n",
      "string 2: world\n",
      "String Concatination : helloworld\n",
      "Capitalize: Helloworld\n",
      "converted to uppercase: HELLO\n",
      "right justify a string:   hello\n",
      "string at center:  hello \n",
      "After replacing l with ell : he(ell)(ell)o\n",
      "string after stripping leading and trailing white spaces: world\n"
     ]
    }
   ],
   "source": [
    "print(\"Demo of basic datatypes: String\")\n",
    "s=\"hello\"\n",
    "t=\"world\"\n",
    "print(\"String 1:\",s)\n",
    "print(\"string 2:\",t)\n",
    "d=s+\"\"+t\n",
    "print(\"String Concatination :\", d)\n",
    "print(\"Capitalize:\", d.capitalize())\n",
    "print(\"converted to uppercase:\",s.upper())\n",
    "print(\"right justify a string:\",s.rjust(7))\n",
    "print(\"string at center:\",s.center(7))\n",
    "print(\"After replacing l with ell :\", s.replace('l','(ell)'))\n",
    "print(\"string after stripping leading and trailing white spaces:\",'world'.strip())"
   ]
  },
  {
   "cell_type": "code",
   "execution_count": null,
   "id": "3041c693-aff1-4e75-892a-2c7b09689e32",
   "metadata": {},
   "outputs": [],
   "source": []
  }
 ],
 "metadata": {
  "kernelspec": {
   "display_name": "Python 3 (ipykernel)",
   "language": "python",
   "name": "python3"
  },
  "language_info": {
   "codemirror_mode": {
    "name": "ipython",
    "version": 3
   },
   "file_extension": ".py",
   "mimetype": "text/x-python",
   "name": "python",
   "nbconvert_exporter": "python",
   "pygments_lexer": "ipython3",
   "version": "3.12.4"
  }
 },
 "nbformat": 4,
 "nbformat_minor": 5
}
